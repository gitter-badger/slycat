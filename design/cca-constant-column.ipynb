{
 "metadata": {
  "name": "",
  "signature": "sha256:02c3b51f22085f69880e235dc2f0827312aad341c523a15f725c2283c45dd5fb"
 },
 "nbformat": 3,
 "nbformat_minor": 0,
 "worksheets": [
  {
   "cells": [
    {
     "cell_type": "markdown",
     "metadata": {},
     "source": [
      "# Overview\n",
      "\n",
      "This notebook demonstrates using the Slycat CCA algorithm with data containing constant columns.\n",
      "\n",
      "**Note: Assumes that your PYTHONPATH includes the Slycat package directory.**"
     ]
    },
    {
     "cell_type": "code",
     "collapsed": false,
     "input": [
      "import numpy\n",
      "import toyplot.color"
     ],
     "language": "python",
     "metadata": {},
     "outputs": [],
     "prompt_number": 1
    },
    {
     "cell_type": "markdown",
     "metadata": {},
     "source": [
      "First, we load row-oriented data from a CSV file, transforming it into a dictionary mapping column names to numpy-array columns:"
     ]
    },
    {
     "cell_type": "code",
     "collapsed": false,
     "input": [
      "rows = [row.split(\",\") for row in open(\"../data/cars.csv\")]\n",
      "columns = zip(*rows)\n",
      "columns = {column[0].strip() : numpy.array(column[1:], dtype=\"float64\" if column[0].strip() not in [\"Model\"] else \"string\") for column in columns}\n",
      "print sorted(columns.keys())"
     ],
     "language": "python",
     "metadata": {},
     "outputs": [
      {
       "output_type": "stream",
       "stream": "stdout",
       "text": [
        "['Acceleration', 'Cylinders', 'Displacement', 'Horsepower', 'MPG', 'Model', 'Origin', 'Weight', 'Year']\n"
       ]
      }
     ],
     "prompt_number": 2
    },
    {
     "cell_type": "markdown",
     "metadata": {},
     "source": [
      "Next, we add some columns containing constant values:"
     ]
    },
    {
     "cell_type": "code",
     "collapsed": false,
     "input": [
      "columns[\"k1\"] = numpy.repeat(1.2, len(columns[\"Year\"]))\n",
      "columns[\"k2\"] = numpy.repeat(45, len(columns[\"Year\"]))\n",
      "print sorted(columns.keys())"
     ],
     "language": "python",
     "metadata": {},
     "outputs": [
      {
       "output_type": "stream",
       "stream": "stdout",
       "text": [
        "['Acceleration', 'Cylinders', 'Displacement', 'Horsepower', 'MPG', 'Model', 'Origin', 'Weight', 'Year', 'k1', 'k2']\n"
       ]
      }
     ],
     "prompt_number": 3
    },
    {
     "cell_type": "markdown",
     "metadata": {},
     "source": [
      "Next, we extract the columns to be used as inputs and outputs, converting them into numpy matrices:"
     ]
    },
    {
     "cell_type": "code",
     "collapsed": false,
     "input": [
      "inputs = numpy.column_stack([columns[name] for name in [\"Cylinders\", \"Displacement\", \"Weight\", \"Year\", \"k1\"]])\n",
      "outputs = numpy.column_stack([columns[name] for name in [\"Acceleration\", \"Horsepower\", \"MPG\", \"k2\"]])"
     ],
     "language": "python",
     "metadata": {},
     "outputs": [],
     "prompt_number": 4
    },
    {
     "cell_type": "markdown",
     "metadata": {},
     "source": [
      "This dataset contains NaN (null) values, so we create a numpy array that identifies all of the \"good\" rows (rows that don't contain a NaN in any of the input or output columns):"
     ]
    },
    {
     "cell_type": "code",
     "collapsed": false,
     "input": [
      "good_rows = ~numpy.isnan(numpy.column_stack((inputs, outputs))).any(axis=1)"
     ],
     "language": "python",
     "metadata": {},
     "outputs": [],
     "prompt_number": 5
    },
    {
     "cell_type": "markdown",
     "metadata": {},
     "source": [
      "We extract the good rows from the input and output matrices to act as the inputs to the CCA algorithm:"
     ]
    },
    {
     "cell_type": "code",
     "collapsed": false,
     "input": [
      "X = inputs[good_rows]\n",
      "Y = outputs[good_rows]"
     ],
     "language": "python",
     "metadata": {},
     "outputs": [],
     "prompt_number": 6
    },
    {
     "cell_type": "markdown",
     "metadata": {},
     "source": [
      "Finally, we compute the CCA and generate a scatterplot from the results:"
     ]
    },
    {
     "cell_type": "code",
     "collapsed": false,
     "input": [
      "from slycat.cca import cca\n",
      "\n",
      "x, y, x_loadings, y_loadings, r, wilks = cca(X, Y, scale_inputs=False, force_positive=True)\n",
      "\n",
      "print \"r^2:\\n%s\\n\" % r\n",
      "print \"x loadings:\\n%s\\n\" % x_loadings\n",
      "print \"y loadings:\\n%s\\n\" % y_loadings"
     ],
     "language": "python",
     "metadata": {},
     "outputs": [
      {
       "ename": "ValueError",
       "evalue": "Columns in X and Y cannot be constant.",
       "output_type": "pyerr",
       "traceback": [
        "\u001b[0;31m---------------------------------------------------------------------------\u001b[0m\n\u001b[0;31mValueError\u001b[0m                                Traceback (most recent call last)",
        "\u001b[0;32m<ipython-input-7-656a09ae227b>\u001b[0m in \u001b[0;36m<module>\u001b[0;34m()\u001b[0m\n\u001b[1;32m      1\u001b[0m \u001b[0;32mfrom\u001b[0m \u001b[0mslycat\u001b[0m\u001b[0;34m.\u001b[0m\u001b[0mcca\u001b[0m \u001b[0;32mimport\u001b[0m \u001b[0mcca\u001b[0m\u001b[0;34m\u001b[0m\u001b[0m\n\u001b[1;32m      2\u001b[0m \u001b[0;34m\u001b[0m\u001b[0m\n\u001b[0;32m----> 3\u001b[0;31m \u001b[0mx\u001b[0m\u001b[0;34m,\u001b[0m \u001b[0my\u001b[0m\u001b[0;34m,\u001b[0m \u001b[0mx_loadings\u001b[0m\u001b[0;34m,\u001b[0m \u001b[0my_loadings\u001b[0m\u001b[0;34m,\u001b[0m \u001b[0mr\u001b[0m\u001b[0;34m,\u001b[0m \u001b[0mwilks\u001b[0m \u001b[0;34m=\u001b[0m \u001b[0mcca\u001b[0m\u001b[0;34m(\u001b[0m\u001b[0mX\u001b[0m\u001b[0;34m,\u001b[0m \u001b[0mY\u001b[0m\u001b[0;34m,\u001b[0m \u001b[0mscale_inputs\u001b[0m\u001b[0;34m=\u001b[0m\u001b[0mFalse\u001b[0m\u001b[0;34m,\u001b[0m \u001b[0mforce_positive\u001b[0m\u001b[0;34m=\u001b[0m\u001b[0mTrue\u001b[0m\u001b[0;34m)\u001b[0m\u001b[0;34m\u001b[0m\u001b[0m\n\u001b[0m\u001b[1;32m      4\u001b[0m \u001b[0;34m\u001b[0m\u001b[0m\n\u001b[1;32m      5\u001b[0m \u001b[0;32mprint\u001b[0m \u001b[0;34m\"r^2:\\n%s\\n\"\u001b[0m \u001b[0;34m%\u001b[0m \u001b[0mr\u001b[0m\u001b[0;34m\u001b[0m\u001b[0m\n",
        "\u001b[0;32m/Users/tshead/src/slycat/packages/slycat/cca.pyc\u001b[0m in \u001b[0;36mcca\u001b[0;34m(X, Y, scale_inputs, force_positive, significant_digits)\u001b[0m\n\u001b[1;32m     49\u001b[0m   \u001b[0;32mfor\u001b[0m \u001b[0mcolumn\u001b[0m \u001b[0;32min\u001b[0m \u001b[0mnumpy\u001b[0m\u001b[0;34m.\u001b[0m\u001b[0mcolumn_stack\u001b[0m\u001b[0;34m(\u001b[0m\u001b[0;34m(\u001b[0m\u001b[0mX\u001b[0m\u001b[0;34m,\u001b[0m \u001b[0mY\u001b[0m\u001b[0;34m)\u001b[0m\u001b[0;34m)\u001b[0m\u001b[0;34m.\u001b[0m\u001b[0mT\u001b[0m\u001b[0;34m:\u001b[0m\u001b[0;34m\u001b[0m\u001b[0m\n\u001b[1;32m     50\u001b[0m     \u001b[0;32mif\u001b[0m \u001b[0mcolumn\u001b[0m\u001b[0;34m.\u001b[0m\u001b[0mmin\u001b[0m\u001b[0;34m(\u001b[0m\u001b[0;34m)\u001b[0m \u001b[0;34m==\u001b[0m \u001b[0mcolumn\u001b[0m\u001b[0;34m.\u001b[0m\u001b[0mmax\u001b[0m\u001b[0;34m(\u001b[0m\u001b[0;34m)\u001b[0m\u001b[0;34m:\u001b[0m\u001b[0;34m\u001b[0m\u001b[0m\n\u001b[0;32m---> 51\u001b[0;31m       \u001b[0;32mraise\u001b[0m \u001b[0mValueError\u001b[0m\u001b[0;34m(\u001b[0m\u001b[0;34m\"Columns in X and Y cannot be constant.\"\u001b[0m\u001b[0;34m)\u001b[0m\u001b[0;34m\u001b[0m\u001b[0m\n\u001b[0m\u001b[1;32m     52\u001b[0m   \u001b[0;32mif\u001b[0m \u001b[0;32mnot\u001b[0m \u001b[0misinstance\u001b[0m\u001b[0;34m(\u001b[0m\u001b[0mscale_inputs\u001b[0m\u001b[0;34m,\u001b[0m \u001b[0mbool\u001b[0m\u001b[0;34m)\u001b[0m\u001b[0;34m:\u001b[0m\u001b[0;34m\u001b[0m\u001b[0m\n\u001b[1;32m     53\u001b[0m     \u001b[0;32mraise\u001b[0m \u001b[0mTypeError\u001b[0m\u001b[0;34m(\u001b[0m\u001b[0;34m\"scale_inputs must be a boolean.\"\u001b[0m\u001b[0;34m)\u001b[0m\u001b[0;34m\u001b[0m\u001b[0m\n",
        "\u001b[0;31mValueError\u001b[0m: Columns in X and Y cannot be constant."
       ]
      }
     ],
     "prompt_number": 7
    }
   ],
   "metadata": {}
  }
 ]
}